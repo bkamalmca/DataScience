{
 "cells": [
  {
   "cell_type": "code",
   "execution_count": 5,
   "metadata": {},
   "outputs": [],
   "source": [
    "#import boto3, re, sys, math, json, os, sagemaker, urllib.request\n",
    "import boto3, os\n",
    "import sagemaker\n",
    "from sagemaker import get_execution_role\n",
    "from sagemaker.sklearn.processing import SKLearnProcessor\n",
    "\n",
    "region = boto3.session.Session().region_name\n",
    "\n",
    "role = get_execution_role()\n",
    "sklearn_processor = SKLearnProcessor(\n",
    "    framework_version=\"0.20.0\", role=role, instance_type=\"ml.m5.4xlarge\", instance_count=1\n",
    ")"
   ]
  },
  {
   "cell_type": "code",
   "execution_count": 6,
   "metadata": {},
   "outputs": [],
   "source": [
    "input_data='s3://dgx-ds-use1-dev-landing-s3/kamal/input/datathon_full.zip'"
   ]
  },
  {
   "cell_type": "code",
   "execution_count": 16,
   "metadata": {},
   "outputs": [
    {
     "name": "stdout",
     "output_type": "stream",
     "text": [
      "date and time = 2021-10-28-20-17-14\n"
     ]
    }
   ],
   "source": [
    "from datetime import datetime\n",
    "\n",
    "dt_string = datetime.now().strftime(\"%Y-%m-%d-%H-%M-%S\")\n",
    "print(\"date and time =\", dt_string)"
   ]
  },
  {
   "cell_type": "code",
   "execution_count": 17,
   "metadata": {},
   "outputs": [
    {
     "name": "stdout",
     "output_type": "stream",
     "text": [
      "\n",
      "Job Name:  kamal-sagemaker-filesplit-2021-10-28-20-17-14\n",
      "Inputs:  [{'InputName': 'input-1', 'AppManaged': False, 'S3Input': {'S3Uri': 's3://dgx-ds-use1-dev-landing-s3/kamal/input/datathon_full.zip', 'LocalPath': '/opt/ml/processing/input', 'S3DataType': 'S3Prefix', 'S3InputMode': 'File', 'S3DataDistributionType': 'FullyReplicated', 'S3CompressionType': 'None'}}, {'InputName': 'code', 'AppManaged': False, 'S3Input': {'S3Uri': 's3://sagemaker-us-east-1-993818375429/kamal-sagemaker-filesplit-2021-10-28-20-17-14/input/code/filesplit.py', 'LocalPath': '/opt/ml/processing/input/code', 'S3DataType': 'S3Prefix', 'S3InputMode': 'File', 'S3DataDistributionType': 'FullyReplicated', 'S3CompressionType': 'None'}}]\n",
      "Outputs:  [{'OutputName': 'split_data', 'AppManaged': False, 'S3Output': {'S3Uri': 's3://dgx-ds-use1-dev-landing-s3/kamal/input', 'LocalPath': '/opt/ml/processing/split', 'S3UploadMode': 'EndOfJob'}}]\n",
      ".............................\u001b[34m/miniconda3/lib/python3.7/site-packages/sklearn/externals/joblib/externals/cloudpickle/cloudpickle.py:47: DeprecationWarning: the imp module is deprecated in favour of importlib; see the module's documentation for alternative uses\n",
      "  import imp\u001b[0m\n",
      "\u001b[34mReceived arguments Namespace(train_test_split_ratio=0.2)\u001b[0m\n",
      "\u001b[34mReading input data from /opt/ml/processing/input/datathon_full.zip\u001b[0m\n",
      "\u001b[34msys:1: DtypeWarning: Columns (24,30) have mixed types. Specify dtype option on import or set low_memory=False.\u001b[0m\n",
      "\u001b[34mSaving split file to /opt/ml/processing/split/orderdata_split.csv\u001b[0m\n",
      "\n"
     ]
    }
   ],
   "source": [
    "from sagemaker.processing import ProcessingInput, ProcessingOutput\n",
    "\n",
    "\n",
    "sklearn_processor.run(\n",
    "    job_name=\"kamal-sagemaker-filesplit-\" + dt_string,\n",
    "    code=\"utilfilesplit.py\",\n",
    "    inputs=[ProcessingInput(source=input_data, destination=\"/opt/ml/processing/input\")],\n",
    "    outputs=[\n",
    "        ProcessingOutput(output_name=\"split_data\", source=\"/opt/ml/processing/split\", destination=\"s3://dgx-ds-use1-dev-landing-s3/kamal/input\"),\n",
    "    ],\n",
    "    arguments=[\"--train-test-split-ratio\", \"0.2\"],\n",
    ")\n",
    "\n",
    "preprocessing_job_description = sklearn_processor.jobs[-1].describe()\n",
    "\n",
    "output_config = preprocessing_job_description[\"ProcessingOutputConfig\"]\n",
    "for output in output_config[\"Outputs\"]:\n",
    "    if output[\"OutputName\"] == \"split_data\":\n",
    "        preprocessed_training_data = output[\"S3Output\"][\"S3Uri\"]\n"
   ]
  },
  {
   "cell_type": "code",
   "execution_count": null,
   "metadata": {},
   "outputs": [],
   "source": []
  },
  {
   "cell_type": "code",
   "execution_count": null,
   "metadata": {},
   "outputs": [],
   "source": []
  },
  {
   "cell_type": "code",
   "execution_count": null,
   "metadata": {},
   "outputs": [],
   "source": [
    "#onetime move file to s3\n",
    "bucket_name='s3://dgx-ds-use1-dev-landing-s3'\n",
    "prefix='kamal/input'\n",
    "\n",
    "#boto3.Session().resource('s3').Bucket(bucket_name).Object(os.path.join(prefix, '/ordertat_data.zip')).upload_file('datathon_full.tab.zip')\n",
    "\n",
    "s3 = boto3.client('s3')\n",
    "with open('datathon_full.zip', 'rb') as data:\n",
    "    s3.upload_fileobj(data, 'dgx-ds-use1-dev-landing-s3', 'kamal/input/datathon_full.zip')"
   ]
  }
 ],
 "metadata": {
  "instance_type": "ml.t3.medium",
  "kernelspec": {
   "display_name": "Python 3 (Data Science)",
   "language": "python",
   "name": "python3__SAGEMAKER_INTERNAL__arn:aws:sagemaker:us-east-1:081325390199:image/datascience-1.0"
  },
  "language_info": {
   "codemirror_mode": {
    "name": "ipython",
    "version": 3
   },
   "file_extension": ".py",
   "mimetype": "text/x-python",
   "name": "python",
   "nbconvert_exporter": "python",
   "pygments_lexer": "ipython3",
   "version": "3.7.10"
  }
 },
 "nbformat": 4,
 "nbformat_minor": 4
}
