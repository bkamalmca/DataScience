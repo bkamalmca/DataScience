{
 "cells": [
  {
   "cell_type": "code",
   "execution_count": null,
   "metadata": {},
   "outputs": [],
   "source": [
    "# import libraries\n",
    "import boto3, re, sys, math, json, os, sagemaker, urllib.request\n",
    "from sagemaker import get_execution_role\n",
    "import numpy as np\n",
    "import pandas as pd\n",
    "import matplotlib.pyplot as plt\n",
    "from IPython.display import Image\n",
    "from IPython.display import display\n",
    "from time import gmtime, strftime\n",
    "import seaborn as sns\n",
    "\n",
    "# Define IAM role\n",
    "role = get_execution_role()\n",
    "bucket_name = 'dgx-ds-use1-dev-landing-s3'\n",
    "prefix = 'kamal/OrderTAT-tf'\n",
    "my_region = boto3.session.Session().region_name # set the region of the instance"
   ]
  },
  {
   "cell_type": "code",
   "execution_count": null,
   "metadata": {},
   "outputs": [],
   "source": [
    "data_key = 'kamal/input/order_data_prep_job1.csv' \n",
    "data_location = 's3://{}/{}'.format(bucket_name, data_key) \n",
    "\n",
    "try:\n",
    "  df = pd.read_csv(data_location, index_col=0)\n",
    "  print('Success: Data loaded into dataframe.')\n",
    "except Exception as e:\n",
    "    print('Data load error: ',e)"
   ]
  },
  {
   "cell_type": "code",
   "execution_count": null,
   "metadata": {},
   "outputs": [],
   "source": [
    "df.head(5)"
   ]
  },
  {
   "cell_type": "code",
   "execution_count": null,
   "metadata": {},
   "outputs": [],
   "source": [
    "df.groupby(['PERFORMING_REGION'])['TAT_HOUR'].count().sort_values(ascending=False).head(20)"
   ]
  },
  {
   "cell_type": "code",
   "execution_count": null,
   "metadata": {},
   "outputs": [],
   "source": [
    "# Get an idea of how many new features we'll get from dummy explosion\n",
    "for col in list(df):\n",
    "    if (df[col].dtype =='object'):\n",
    "        print('col:', col, 'unique vals: ', df[col].nunique() )"
   ]
  },
  {
   "cell_type": "code",
   "execution_count": null,
   "metadata": {},
   "outputs": [],
   "source": [
    "# Get an idea of how many new features we'll get from dummy explosion\n",
    "for col in list(df):\n",
    "    if (df[col].dtype =='object'):\n",
    "        print(df.groupby([col])['TAT_HOUR'].count().sort_values(ascending=False).head(20))"
   ]
  },
  {
   "cell_type": "code",
   "execution_count": null,
   "metadata": {},
   "outputs": [],
   "source": [
    "df[df['TAT_HOUR']>df['TAT_HOUR'].quantile(.998)]"
   ]
  },
  {
   "cell_type": "code",
   "execution_count": null,
   "metadata": {},
   "outputs": [],
   "source": [
    "df[df['TAT_HOUR']< 0] #df['TAT_HOUR'].quantile(.001)]"
   ]
  },
  {
   "cell_type": "code",
   "execution_count": null,
   "metadata": {},
   "outputs": [],
   "source": [
    "dft = df[(df['TAT_HOUR']<=df['TAT_HOUR'].quantile(.99)) & (df['TAT_HOUR']>=0)]"
   ]
  },
  {
   "cell_type": "code",
   "execution_count": null,
   "metadata": {},
   "outputs": [],
   "source": [
    "#sns.boxplot(df_t[df_t['TAT_HOUR']<=df_t['TAT_HOUR'].quantile(.95)][['TAT_HOUR',  'PERFORMING_REGION']].sample(2000))\n",
    "plt.figure(figsize = (15,6))\n",
    "sns.set(font_scale=1.0)\n",
    "sns.boxplot(x=\"MARKET_SEGMENT_DESC\", y=\"TAT_HOUR\", data=dft[['TAT_HOUR',  'MARKET_SEGMENT_DESC']].sample(200000))"
   ]
  },
  {
   "cell_type": "code",
   "execution_count": null,
   "metadata": {},
   "outputs": [],
   "source": [
    "#sns.boxplot(df_t[df_t['TAT_HOUR']<=df_t['TAT_HOUR'].quantile(.95)][['TAT_HOUR',  'PERFORMING_REGION']].sample(2000))\n",
    "plt.figure(figsize = (10,8))\n",
    "sns.set(font_scale=1.0)\n",
    "sns.boxplot(x=\"Collection_Hour\", y=\"TAT_HOUR\", data=dft[['TAT_HOUR',  'Collection_Hour']].sample(200000))"
   ]
  },
  {
   "cell_type": "code",
   "execution_count": null,
   "metadata": {},
   "outputs": [],
   "source": [
    "plt.figure(figsize = (13,6))\n",
    "sns.set(font_scale=1.0)\n",
    "sns.boxplot(x=\"PERFORMING_REGION\", y=\"TAT_HOUR\", data=dft[['TAT_HOUR','PERFORMING_REGION']].sample(200000))"
   ]
  },
  {
   "cell_type": "code",
   "execution_count": null,
   "metadata": {},
   "outputs": [],
   "source": [
    "plt.figure(figsize = (3,6))\n",
    "sns.set(font_scale=1.0)\n",
    "sns.boxplot(x=\"Collection_is_Holiday\", y=\"TAT_HOUR\", data=dft[['TAT_HOUR',  'Collection_is_Holiday']].sample(200000))"
   ]
  },
  {
   "cell_type": "code",
   "execution_count": null,
   "metadata": {},
   "outputs": [],
   "source": [
    "plt.figure(figsize = (8,6))\n",
    "sns.set(font_scale=1.0)\n",
    "sns.boxplot(x=\"Collection_DOW\", y=\"TAT_HOUR\", data=dft[['TAT_HOUR',  'Collection_DOW']].sample(200000))"
   ]
  },
  {
   "cell_type": "code",
   "execution_count": null,
   "metadata": {},
   "outputs": [],
   "source": [
    "plt.figure(figsize = (12,6))\n",
    "sns.set(font_scale=1.0)\n",
    "sns.boxplot(x=\"LAB_SYSTEM_ID\", y=\"TAT_HOUR\", data=dft[['TAT_HOUR',  'LAB_SYSTEM_ID']].sample(200000))"
   ]
  },
  {
   "cell_type": "code",
   "execution_count": null,
   "metadata": {},
   "outputs": [],
   "source": [
    "plt.figure(figsize = (12,6))\n",
    "sns.set(font_scale=1.0)\n",
    "sns.boxplot(x=\"ORDERING_LAB_SITE_TYPE\", y=\"TAT_HOUR\", data=dft[['TAT_HOUR',  'ORDERING_LAB_SITE_TYPE']].sample(200000))"
   ]
  },
  {
   "cell_type": "code",
   "execution_count": null,
   "metadata": {},
   "outputs": [],
   "source": [
    "plt.figure(figsize = (8,2))\n",
    "sns.set(font_scale=1.1)\n",
    "\n",
    "sns.heatmap(dft[['TAT_HOUR', 'Distance', 'Collection_Hour', 'Hours_Collection_to_Accession']].sample(200000).corr(), annot=True)"
   ]
  },
  {
   "cell_type": "code",
   "execution_count": null,
   "metadata": {},
   "outputs": [],
   "source": [
    "plt.figure(figsize = (12,12))\n",
    "sns.set(font_scale=1.1)\n",
    "sns.pairplot(df[['TAT_HOUR', 'Distance', 'Collection_Hour', 'Hours_Collection_to_Accession', 'PERFORMING_REGION']].sample(10000))"
   ]
  }
 ],
 "metadata": {
  "instance_type": "ml.t3.medium",
  "kernelspec": {
   "display_name": "Python 3",
   "language": "python",
   "name": "python3"
  },
  "language_info": {
   "codemirror_mode": {
    "name": "ipython",
    "version": 3
   },
   "file_extension": ".py",
   "mimetype": "text/x-python",
   "name": "python",
   "nbconvert_exporter": "python",
   "pygments_lexer": "ipython3",
   "version": "3.8.8"
  }
 },
 "nbformat": 4,
 "nbformat_minor": 4
}
