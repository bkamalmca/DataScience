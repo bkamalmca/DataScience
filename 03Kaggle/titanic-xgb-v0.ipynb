{
 "cells": [
  {
   "cell_type": "code",
   "execution_count": 16,
   "metadata": {
    "_cell_guid": "b1076dfc-b9ad-4769-8c92-a6c4dae69d19",
    "_uuid": "8f2839f25d086af736a60e9eeb907d3b93b6e0e5",
    "execution": {
     "iopub.execute_input": "2021-12-08T23:07:05.806001Z",
     "iopub.status.busy": "2021-12-08T23:07:05.805696Z",
     "iopub.status.idle": "2021-12-08T23:07:05.817093Z",
     "shell.execute_reply": "2021-12-08T23:07:05.816385Z",
     "shell.execute_reply.started": "2021-12-08T23:07:05.80597Z"
    }
   },
   "outputs": [
    {
     "name": "stderr",
     "output_type": "stream",
     "text": [
      "ERROR:root:Internal Python error in the inspect module.\n",
      "Below is the traceback from this internal error.\n",
      "\n"
     ]
    },
    {
     "name": "stdout",
     "output_type": "stream",
     "text": [
      "Traceback (most recent call last):\n",
      "  File \"/opt/conda/lib/python3.7/site-packages/IPython/core/interactiveshell.py\", line 3331, in run_code\n",
      "    exec(code_obj, self.user_global_ns, self.user_ns)\n",
      "  File \"<ipython-input-16-dd16ae328b0d>\", line 9, in <module>\n",
      "    import seaborn as sns\n",
      "  File \"/opt/conda/lib/python3.7/site-packages/seaborn/__init__.py\", line 2, in <module>\n",
      "    import matplotlib as mpl\n",
      "  File \"/opt/conda/lib/python3.7/site-packages/matplotlib/__init__.py\", line 1013, in <module>\n",
      "    rcParams = rc_params()\n",
      "  File \"/opt/conda/lib/python3.7/site-packages/matplotlib/__init__.py\", line 880, in rc_params\n",
      "    return rc_params_from_file(matplotlib_fname(), fail_on_error)\n",
      "  File \"/opt/conda/lib/python3.7/site-packages/matplotlib/__init__.py\", line 697, in matplotlib_fname\n",
      "    for fname in gen_candidates():\n",
      "  File \"/opt/conda/lib/python3.7/site-packages/matplotlib/__init__.py\", line 686, in gen_candidates\n",
      "    yield os.path.join(os.getcwd(), 'matplotlibrc')\n",
      "FileNotFoundError: [Errno 2] No such file or directory\n",
      "\n",
      "During handling of the above exception, another exception occurred:\n",
      "\n",
      "Traceback (most recent call last):\n",
      "  File \"/opt/conda/lib/python3.7/site-packages/IPython/core/interactiveshell.py\", line 2044, in showtraceback\n",
      "    stb = value._render_traceback_()\n",
      "AttributeError: 'FileNotFoundError' object has no attribute '_render_traceback_'\n",
      "\n",
      "During handling of the above exception, another exception occurred:\n",
      "\n",
      "Traceback (most recent call last):\n",
      "  File \"/opt/conda/lib/python3.7/site-packages/IPython/core/ultratb.py\", line 1151, in get_records\n",
      "    return _fixed_getinnerframes(etb, number_of_lines_of_context, tb_offset)\n",
      "  File \"/opt/conda/lib/python3.7/site-packages/IPython/core/ultratb.py\", line 319, in wrapped\n",
      "    return f(*args, **kwargs)\n",
      "  File \"/opt/conda/lib/python3.7/site-packages/IPython/core/ultratb.py\", line 353, in _fixed_getinnerframes\n",
      "    records = fix_frame_records_filenames(inspect.getinnerframes(etb, context))\n",
      "  File \"/opt/conda/lib/python3.7/inspect.py\", line 1502, in getinnerframes\n",
      "    frameinfo = (tb.tb_frame,) + getframeinfo(tb, context)\n",
      "  File \"/opt/conda/lib/python3.7/inspect.py\", line 1460, in getframeinfo\n",
      "    filename = getsourcefile(frame) or getfile(frame)\n",
      "  File \"/opt/conda/lib/python3.7/inspect.py\", line 696, in getsourcefile\n",
      "    if getattr(getmodule(object, filename), '__loader__', None) is not None:\n",
      "  File \"/opt/conda/lib/python3.7/inspect.py\", line 725, in getmodule\n",
      "    file = getabsfile(object, _filename)\n",
      "  File \"/opt/conda/lib/python3.7/inspect.py\", line 709, in getabsfile\n",
      "    return os.path.normcase(os.path.abspath(_filename))\n",
      "  File \"/opt/conda/lib/python3.7/posixpath.py\", line 383, in abspath\n",
      "    cwd = os.getcwd()\n",
      "FileNotFoundError: [Errno 2] No such file or directory\n"
     ]
    },
    {
     "ename": "FileNotFoundError",
     "evalue": "[Errno 2] No such file or directory",
     "output_type": "error",
     "traceback": [
      "\u001b[0;31m---------------------------------------------------------------------------\u001b[0m"
     ]
    }
   ],
   "source": [
    "# This Python 3 environment comes with many helpful analytics libraries installed\n",
    "# It is defined by the kaggle/python Docker image: https://github.com/kaggle/docker-python\n",
    "# For example, here's several helpful packages to load\n",
    "\n",
    "import numpy as np # linear algebra\n",
    "import pandas as pd # data processing, CSV file I/O (e.g. pd.read_csv)\n",
    "import xgboost as xgb\n",
    "from sklearn.model_selection import train_test_split\n",
    "import seaborn as sns \n",
    "import matplotlib.pyplot as plt\n",
    "#from sklearn.preprocessing import OneHotEncoder\n",
    "\n",
    "# Input data files are available in the read-only \"../input/\" directory\n",
    "# For example, running this (by clicking run or pressing Shift+Enter) will list all files under the input directory\n",
    "\n",
    "import os\n",
    "for dirname, _, filenames in os.walk('/kaggle/input'):\n",
    "    for filename in filenames:\n",
    "        print(os.path.join(dirname, filename))\n",
    "\n",
    "# You can write up to 20GB to the current directory (/kaggle/working/) that gets preserved as output when you create a version using \"Save & Run All\" \n",
    "# You can also write temporary files to /kaggle/temp/, but they won't be saved outside of the current session"
   ]
  },
  {
   "cell_type": "code",
   "execution_count": null,
   "metadata": {
    "execution": {
     "iopub.execute_input": "2021-12-08T23:07:05.819146Z",
     "iopub.status.busy": "2021-12-08T23:07:05.81882Z",
     "iopub.status.idle": "2021-12-08T23:07:05.844345Z",
     "shell.execute_reply": "2021-12-08T23:07:05.843831Z",
     "shell.execute_reply.started": "2021-12-08T23:07:05.819119Z"
    }
   },
   "outputs": [],
   "source": [
    "df = pd.read_csv('/input/titanic/train.csv', index_col=0)\n",
    "df['Type']='Train'\n",
    "df.head(3)"
   ]
  },
  {
   "cell_type": "code",
   "execution_count": null,
   "metadata": {
    "execution": {
     "iopub.execute_input": "2021-12-08T23:07:05.845885Z",
     "iopub.status.busy": "2021-12-08T23:07:05.845305Z",
     "iopub.status.idle": "2021-12-08T23:07:05.869663Z",
     "shell.execute_reply": "2021-12-08T23:07:05.868861Z",
     "shell.execute_reply.started": "2021-12-08T23:07:05.845856Z"
    }
   },
   "outputs": [],
   "source": [
    "dfval = pd.read_csv('/input/titanic/test.csv', index_col=0)\n",
    "dfval['Type']='Test'\n",
    "dfval['Survived']=''\n",
    "dfval.head(3)"
   ]
  },
  {
   "cell_type": "code",
   "execution_count": null,
   "metadata": {
    "execution": {
     "iopub.execute_input": "2021-12-08T23:07:05.871218Z",
     "iopub.status.busy": "2021-12-08T23:07:05.870934Z",
     "iopub.status.idle": "2021-12-08T23:07:05.875351Z",
     "shell.execute_reply": "2021-12-08T23:07:05.874399Z",
     "shell.execute_reply.started": "2021-12-08T23:07:05.871181Z"
    }
   },
   "outputs": [],
   "source": [
    "#dfx = pd.concat([df, dft])\n",
    "dfx = df"
   ]
  },
  {
   "cell_type": "code",
   "execution_count": null,
   "metadata": {
    "execution": {
     "iopub.execute_input": "2021-12-08T23:07:05.877657Z",
     "iopub.status.busy": "2021-12-08T23:07:05.87725Z",
     "iopub.status.idle": "2021-12-08T23:07:05.889399Z",
     "shell.execute_reply": "2021-12-08T23:07:05.888855Z",
     "shell.execute_reply.started": "2021-12-08T23:07:05.877629Z"
    }
   },
   "outputs": [],
   "source": [
    "dfx.isna().sum()"
   ]
  },
  {
   "cell_type": "code",
   "execution_count": null,
   "metadata": {
    "execution": {
     "iopub.execute_input": "2021-12-08T23:07:05.891062Z",
     "iopub.status.busy": "2021-12-08T23:07:05.890562Z",
     "iopub.status.idle": "2021-12-08T23:07:05.908948Z",
     "shell.execute_reply": "2021-12-08T23:07:05.908114Z",
     "shell.execute_reply.started": "2021-12-08T23:07:05.89103Z"
    }
   },
   "outputs": [],
   "source": [
    "for col in list(dfx):\n",
    "    if ((dfx[col].dtype =='object') and (dfx[col].name !='Name')):\n",
    "        print(dfx.groupby([col])['Survived'].count().sort_values(ascending=False).head(10))"
   ]
  },
  {
   "cell_type": "code",
   "execution_count": null,
   "metadata": {
    "execution": {
     "iopub.execute_input": "2021-12-08T23:07:05.910639Z",
     "iopub.status.busy": "2021-12-08T23:07:05.910275Z",
     "iopub.status.idle": "2021-12-08T23:07:05.934925Z",
     "shell.execute_reply": "2021-12-08T23:07:05.93409Z",
     "shell.execute_reply.started": "2021-12-08T23:07:05.910598Z"
    }
   },
   "outputs": [],
   "source": [
    "#Cabin can be dropped, value is missing for all PClass\n",
    "df[df['Cabin'].isna()]#['Pclass'].value_counts()"
   ]
  },
  {
   "cell_type": "code",
   "execution_count": null,
   "metadata": {
    "execution": {
     "iopub.execute_input": "2021-12-08T23:07:05.936465Z",
     "iopub.status.busy": "2021-12-08T23:07:05.936265Z",
     "iopub.status.idle": "2021-12-08T23:07:05.951065Z",
     "shell.execute_reply": "2021-12-08T23:07:05.950221Z",
     "shell.execute_reply.started": "2021-12-08T23:07:05.936441Z"
    }
   },
   "outputs": [],
   "source": [
    "df[df['Embarked'].isna()]"
   ]
  },
  {
   "cell_type": "code",
   "execution_count": null,
   "metadata": {
    "execution": {
     "iopub.execute_input": "2021-12-08T23:07:05.953091Z",
     "iopub.status.busy": "2021-12-08T23:07:05.952327Z",
     "iopub.status.idle": "2021-12-08T23:07:05.967203Z",
     "shell.execute_reply": "2021-12-08T23:07:05.966449Z",
     "shell.execute_reply.started": "2021-12-08T23:07:05.953052Z"
    }
   },
   "outputs": [],
   "source": [
    "df[['Embarked']].value_counts()"
   ]
  },
  {
   "cell_type": "code",
   "execution_count": null,
   "metadata": {
    "execution": {
     "iopub.execute_input": "2021-12-08T23:07:05.968822Z",
     "iopub.status.busy": "2021-12-08T23:07:05.968297Z",
     "iopub.status.idle": "2021-12-08T23:07:05.987688Z",
     "shell.execute_reply": "2021-12-08T23:07:05.987148Z",
     "shell.execute_reply.started": "2021-12-08T23:07:05.96877Z"
    }
   },
   "outputs": [],
   "source": [
    "#embarked can be dropped, its port of entry\n",
    "df[df['Embarked']=='C'].sample(10)"
   ]
  },
  {
   "cell_type": "code",
   "execution_count": null,
   "metadata": {
    "execution": {
     "iopub.execute_input": "2021-12-08T23:07:05.989019Z",
     "iopub.status.busy": "2021-12-08T23:07:05.988661Z",
     "iopub.status.idle": "2021-12-08T23:07:06.473293Z",
     "shell.execute_reply": "2021-12-08T23:07:06.472481Z",
     "shell.execute_reply.started": "2021-12-08T23:07:05.988991Z"
    }
   },
   "outputs": [],
   "source": [
    "# Age distribution\n",
    "sns.histplot(x = 'Age', data = df, binwidth = 5, kde = True)\n",
    "plt.title('Age Distribution')\n",
    "plt.show()\n",
    "\n",
    "# Fare distribution\n",
    "sns.histplot(x = 'Fare', data = df, binwidth = 25, kde = True)\n",
    "plt.title('Fare Distribution')\n",
    "plt.show()"
   ]
  },
  {
   "cell_type": "code",
   "execution_count": null,
   "metadata": {
    "execution": {
     "iopub.execute_input": "2021-12-08T23:07:06.476293Z",
     "iopub.status.busy": "2021-12-08T23:07:06.476056Z",
     "iopub.status.idle": "2021-12-08T23:07:06.507349Z",
     "shell.execute_reply": "2021-12-08T23:07:06.506475Z",
     "shell.execute_reply.started": "2021-12-08T23:07:06.476264Z"
    }
   },
   "outputs": [],
   "source": [
    "df[df['Age'].isna()]"
   ]
  },
  {
   "cell_type": "code",
   "execution_count": null,
   "metadata": {
    "execution": {
     "iopub.execute_input": "2021-12-08T23:07:06.509454Z",
     "iopub.status.busy": "2021-12-08T23:07:06.508874Z",
     "iopub.status.idle": "2021-12-08T23:07:06.527463Z",
     "shell.execute_reply": "2021-12-08T23:07:06.526738Z",
     "shell.execute_reply.started": "2021-12-08T23:07:06.509411Z"
    }
   },
   "outputs": [],
   "source": [
    "#no outliers in age\n",
    "df[df['Age']>70]"
   ]
  },
  {
   "cell_type": "code",
   "execution_count": null,
   "metadata": {
    "execution": {
     "iopub.execute_input": "2021-12-08T23:07:06.529051Z",
     "iopub.status.busy": "2021-12-08T23:07:06.528502Z",
     "iopub.status.idle": "2021-12-08T23:07:06.537623Z",
     "shell.execute_reply": "2021-12-08T23:07:06.536868Z",
     "shell.execute_reply.started": "2021-12-08T23:07:06.529017Z"
    }
   },
   "outputs": [],
   "source": [
    "#age missing for 20% date, assign mean or 0 (new col flag)\n",
    "df['Age'].mean()"
   ]
  },
  {
   "cell_type": "code",
   "execution_count": null,
   "metadata": {
    "execution": {
     "iopub.execute_input": "2021-12-08T23:07:06.539499Z",
     "iopub.status.busy": "2021-12-08T23:07:06.53891Z",
     "iopub.status.idle": "2021-12-08T23:07:06.569545Z",
     "shell.execute_reply": "2021-12-08T23:07:06.568854Z",
     "shell.execute_reply.started": "2021-12-08T23:07:06.539465Z"
    }
   },
   "outputs": [],
   "source": [
    "#fare combined for some cabins and may be based on port of entry, may influence incorrect results, will try\n",
    "df[df['Fare']>200]"
   ]
  },
  {
   "cell_type": "code",
   "execution_count": null,
   "metadata": {
    "execution": {
     "iopub.execute_input": "2021-12-08T23:07:06.571343Z",
     "iopub.status.busy": "2021-12-08T23:07:06.571018Z",
     "iopub.status.idle": "2021-12-08T23:07:06.580653Z",
     "shell.execute_reply": "2021-12-08T23:07:06.579944Z",
     "shell.execute_reply.started": "2021-12-08T23:07:06.571303Z"
    }
   },
   "outputs": [],
   "source": [
    "def transform_df(dfx):\n",
    "    tdf = dfx[['Survived','Pclass', 'Sex', 'Age', 'SibSp', 'Parch', 'Fare' , 'Embarked', 'Type']]\n",
    "    tdf['Age_Exists'] = tdf['Age'].isnull()\n",
    "    tdf['Age_Exists'] = tdf['Age_Exists'].apply(lambda x: 0 if x is True else 1)\n",
    "    #tdf['Age'].fillna(df['Age'].mean(), inplace=True)\n",
    "    tdf['Age'].fillna(0, inplace=True)\n",
    "    s=tdf['Embarked'].mode()\n",
    "    tdf['Embarked'].fillna(s[0], inplace=True)\n",
    "    tdf['Fare'].fillna(0, inplace=True)\n",
    "    return tdf\n"
   ]
  },
  {
   "cell_type": "code",
   "execution_count": null,
   "metadata": {
    "execution": {
     "iopub.execute_input": "2021-12-08T23:07:06.582211Z",
     "iopub.status.busy": "2021-12-08T23:07:06.581984Z",
     "iopub.status.idle": "2021-12-08T23:07:06.609054Z",
     "shell.execute_reply": "2021-12-08T23:07:06.608489Z",
     "shell.execute_reply.started": "2021-12-08T23:07:06.582179Z"
    }
   },
   "outputs": [],
   "source": [
    "\n",
    "tdf=transform_df(tdf)\n",
    "tdf.sample(5)"
   ]
  },
  {
   "cell_type": "code",
   "execution_count": null,
   "metadata": {
    "execution": {
     "iopub.execute_input": "2021-12-08T23:07:06.61014Z",
     "iopub.status.busy": "2021-12-08T23:07:06.609913Z",
     "iopub.status.idle": "2021-12-08T23:07:06.618822Z",
     "shell.execute_reply": "2021-12-08T23:07:06.618202Z",
     "shell.execute_reply.started": "2021-12-08T23:07:06.610094Z"
    }
   },
   "outputs": [],
   "source": [
    "tdf.isna().sum()"
   ]
  },
  {
   "cell_type": "code",
   "execution_count": null,
   "metadata": {
    "execution": {
     "iopub.execute_input": "2021-12-08T23:07:06.619939Z",
     "iopub.status.busy": "2021-12-08T23:07:06.619678Z",
     "iopub.status.idle": "2021-12-08T23:07:06.635579Z",
     "shell.execute_reply": "2021-12-08T23:07:06.634854Z",
     "shell.execute_reply.started": "2021-12-08T23:07:06.619912Z"
    }
   },
   "outputs": [],
   "source": [
    "x = tdf[tdf['Type']=='Train'][['Pclass', 'Sex', 'Age', 'SibSp', 'Parch']] #, 'Fare' , 'Embarked', 'Age_Exists']]\n",
    "y = tdf[tdf['Type']=='Train'][['Survived']]\n",
    "x = pd.get_dummies(x, drop_first=True)\n"
   ]
  },
  {
   "cell_type": "code",
   "execution_count": null,
   "metadata": {
    "execution": {
     "iopub.execute_input": "2021-12-08T23:07:06.636852Z",
     "iopub.status.busy": "2021-12-08T23:07:06.636633Z",
     "iopub.status.idle": "2021-12-08T23:07:06.646084Z",
     "shell.execute_reply": "2021-12-08T23:07:06.645418Z",
     "shell.execute_reply.started": "2021-12-08T23:07:06.636822Z"
    }
   },
   "outputs": [],
   "source": [
    "x_train, x_test, y_train, y_test = train_test_split(x, y, test_size=0.001, random_state=42)\n"
   ]
  },
  {
   "cell_type": "code",
   "execution_count": null,
   "metadata": {
    "execution": {
     "iopub.execute_input": "2021-12-08T23:07:06.647404Z",
     "iopub.status.busy": "2021-12-08T23:07:06.647141Z",
     "iopub.status.idle": "2021-12-08T23:07:07.215561Z",
     "shell.execute_reply": "2021-12-08T23:07:07.214935Z",
     "shell.execute_reply.started": "2021-12-08T23:07:06.647376Z"
    }
   },
   "outputs": [],
   "source": [
    "#Train the XGboost Model for Classification\n",
    "model1 = xgb.XGBClassifier()\n",
    "model2 = xgb.XGBClassifier(n_estimators=100, max_depth=8, learning_rate=0.1, subsample=0.5)\n",
    "\n",
    "train_model1 = model1.fit(x_train, y_train)\n",
    "train_model2 = model2.fit(x_train, y_train)"
   ]
  },
  {
   "cell_type": "code",
   "execution_count": null,
   "metadata": {
    "execution": {
     "iopub.execute_input": "2021-12-08T23:07:07.217153Z",
     "iopub.status.busy": "2021-12-08T23:07:07.216864Z",
     "iopub.status.idle": "2021-12-08T23:07:07.248868Z",
     "shell.execute_reply": "2021-12-08T23:07:07.241441Z",
     "shell.execute_reply.started": "2021-12-08T23:07:07.217112Z"
    }
   },
   "outputs": [],
   "source": [
    "#prediction and Classification Report\n",
    "from sklearn.metrics import classification_report\n",
    "\n",
    "pred1 = train_model1.predict(x_test)\n",
    "pred2 = train_model2.predict(x_test)\n",
    "\n"
   ]
  },
  {
   "cell_type": "code",
   "execution_count": null,
   "metadata": {
    "execution": {
     "iopub.execute_input": "2021-12-08T23:07:07.25307Z",
     "iopub.status.busy": "2021-12-08T23:07:07.252349Z",
     "iopub.status.idle": "2021-12-08T23:07:07.268727Z",
     "shell.execute_reply": "2021-12-08T23:07:07.268173Z",
     "shell.execute_reply.started": "2021-12-08T23:07:07.253032Z"
    }
   },
   "outputs": [],
   "source": [
    "print('Model 1 XGboost Report:')\n",
    "r1=classification_report(y_test, pred1)\n",
    "print(r1)\n",
    "r2=classification_report(y_test, pred2)\n",
    "print(r2)"
   ]
  },
  {
   "cell_type": "code",
   "execution_count": null,
   "metadata": {
    "execution": {
     "iopub.execute_input": "2021-12-08T23:07:07.270432Z",
     "iopub.status.busy": "2021-12-08T23:07:07.26974Z",
     "iopub.status.idle": "2021-12-08T23:07:07.519358Z",
     "shell.execute_reply": "2021-12-08T23:07:07.518808Z",
     "shell.execute_reply.started": "2021-12-08T23:07:07.270403Z"
    }
   },
   "outputs": [],
   "source": [
    "model3 = xgb.XGBClassifier(n_estimators=80, max_depth=8, learning_rate=0.05, subsample=0.5, gamma=0, min_child_weight=2, objective= 'binary:logistic')\n",
    "\n",
    "train_model3 = model3.fit(x_train, y_train)\n",
    "pred3 = train_model3.predict(x_test)\n",
    "print(classification_report(y_test, pred3))"
   ]
  },
  {
   "cell_type": "code",
   "execution_count": null,
   "metadata": {
    "execution": {
     "iopub.execute_input": "2021-12-08T23:07:07.520603Z",
     "iopub.status.busy": "2021-12-08T23:07:07.520265Z",
     "iopub.status.idle": "2021-12-08T23:07:07.535319Z",
     "shell.execute_reply": "2021-12-08T23:07:07.534749Z",
     "shell.execute_reply.started": "2021-12-08T23:07:07.520575Z"
    }
   },
   "outputs": [],
   "source": [
    "dfsub = pd.read_csv('/kaggle/input/titanic/gender_submission.csv', index_col=0)\n",
    "dfsub"
   ]
  },
  {
   "cell_type": "code",
   "execution_count": null,
   "metadata": {
    "execution": {
     "iopub.execute_input": "2021-12-08T23:07:07.536847Z",
     "iopub.status.busy": "2021-12-08T23:07:07.536201Z",
     "iopub.status.idle": "2021-12-08T23:07:07.559567Z",
     "shell.execute_reply": "2021-12-08T23:07:07.558992Z",
     "shell.execute_reply.started": "2021-12-08T23:07:07.536808Z"
    }
   },
   "outputs": [],
   "source": [
    "#prediction using the model with test data\n",
    "dfval=transform_df(dfval)\n",
    "dfval.sample(5)\n",
    "xv=dfval[['Pclass', 'Sex', 'Age', 'SibSp', 'Parch']] \n",
    "x_val = pd.get_dummies(xv, drop_first=True)\n",
    "pred_sub = train_model3.predict(x_val)\n"
   ]
  },
  {
   "cell_type": "code",
   "execution_count": null,
   "metadata": {
    "execution": {
     "iopub.execute_input": "2021-12-08T23:07:44.110971Z",
     "iopub.status.busy": "2021-12-08T23:07:44.110438Z",
     "iopub.status.idle": "2021-12-08T23:07:44.118877Z",
     "shell.execute_reply": "2021-12-08T23:07:44.11796Z",
     "shell.execute_reply.started": "2021-12-08T23:07:44.110939Z"
    }
   },
   "outputs": [],
   "source": [
    "len(pred_sub)\n",
    "dfsub['Survived']=pred_sub\n",
    "dfsub.to_csv('submission.csv') #, index=False)"
   ]
  },
  {
   "cell_type": "code",
   "execution_count": null,
   "metadata": {},
   "outputs": [],
   "source": []
  },
  {
   "cell_type": "code",
   "execution_count": null,
   "metadata": {
    "execution": {
     "iopub.execute_input": "2021-12-08T23:07:07.574664Z",
     "iopub.status.busy": "2021-12-08T23:07:07.574439Z",
     "iopub.status.idle": "2021-12-08T23:07:07.581059Z",
     "shell.execute_reply": "2021-12-08T23:07:07.580476Z",
     "shell.execute_reply.started": "2021-12-08T23:07:07.574637Z"
    }
   },
   "outputs": [],
   "source": [
    "from sklearn.model_selection import GridSearchCV\n",
    "\n",
    "param_test = {\n",
    " 'max_depth':[4,5,6],\n",
    " 'min_child_weight':[4,5,6]\n",
    "}\n",
    "gsearch = GridSearchCV(estimator = xgb.XGBClassifier( learning_rate=0.1, n_estimators=120, max_depth=5,\n",
    " min_child_weight=2, gamma=0, subsample=0.8, colsample_bytree=0.8,\n",
    " objective= 'binary:logistic', nthread=4, scale_pos_weight=1,seed=27), \n",
    " param_grid = param_test, scoring='roc_auc',n_jobs=4,iid=False, cv=5)\n",
    "\n",
    "#train_model4 = gsearch.fit(x_train, y_train)\n",
    "#pred4 = train_model4.predict(x_test)\n"
   ]
  },
  {
   "cell_type": "code",
   "execution_count": null,
   "metadata": {
    "execution": {
     "iopub.execute_input": "2021-12-08T23:07:07.58282Z",
     "iopub.status.busy": "2021-12-08T23:07:07.58219Z",
     "iopub.status.idle": "2021-12-08T23:07:07.605632Z",
     "shell.execute_reply": "2021-12-08T23:07:07.604738Z",
     "shell.execute_reply.started": "2021-12-08T23:07:07.582769Z"
    }
   },
   "outputs": [],
   "source": [
    "print(classification_report(y_test, pred4))\n",
    "train_model4.cv_results_"
   ]
  },
  {
   "cell_type": "code",
   "execution_count": null,
   "metadata": {
    "execution": {
     "iopub.status.busy": "2021-12-08T23:07:07.606749Z",
     "iopub.status.idle": "2021-12-08T23:07:07.607397Z",
     "shell.execute_reply": "2021-12-08T23:07:07.607236Z",
     "shell.execute_reply.started": "2021-12-08T23:07:07.607215Z"
    }
   },
   "outputs": [],
   "source": [
    "from sklearn import svm\n",
    "from sklearn.ensemble import RandomForestRegressor\n",
    "from sklearn.model_selection import GridSearchCV\n",
    "\n",
    "model_params = {\n",
    "    'svm': {\n",
    "        'model': svm.SVR(gamma='auto'),\n",
    "        'params' : {\n",
    "            'C': [10,20, 50],\n",
    "            'kernel': ['rbf','linear']\n",
    "        }  \n",
    "    },\n",
    "    'random_forest': {\n",
    "        'model': RandomForestRegressor(),\n",
    "        'params' : {\n",
    "            'n_estimators': [50, 100]\n",
    "        }\n",
    "    }\n",
    "}\n"
   ]
  },
  {
   "cell_type": "code",
   "execution_count": null,
   "metadata": {
    "execution": {
     "iopub.status.busy": "2021-12-08T23:07:07.608432Z",
     "iopub.status.idle": "2021-12-08T23:07:07.608959Z",
     "shell.execute_reply": "2021-12-08T23:07:07.608772Z",
     "shell.execute_reply.started": "2021-12-08T23:07:07.608753Z"
    }
   },
   "outputs": [],
   "source": [
    "scores = []\n",
    "\n",
    "for model_name, mp in model_params.items():\n",
    "    clf =  GridSearchCV(mp['model'], mp['params'], cv=5, return_train_score=True)\n",
    "    #clf.fit(x_train, y_train)\n",
    "    scores.append({\n",
    "        'model': model_name,\n",
    "        'best_score': clf.best_score_,\n",
    "        'best_params': clf.best_params_\n",
    "    })\n",
    "    \n",
    "dfs = pd.DataFrame(scores,columns=['model','best_score','best_params'])\n",
    "dfs"
   ]
  },
  {
   "cell_type": "code",
   "execution_count": null,
   "metadata": {
    "execution": {
     "iopub.status.busy": "2021-12-08T23:07:07.60994Z",
     "iopub.status.idle": "2021-12-08T23:07:07.610411Z",
     "shell.execute_reply": "2021-12-08T23:07:07.610264Z",
     "shell.execute_reply.started": "2021-12-08T23:07:07.610246Z"
    }
   },
   "outputs": [],
   "source": [
    "df2=pd.read_csv('/kaggle/input/titanic/gender_submission.csv')#, Index=False)\n",
    "df2"
   ]
  },
  {
   "cell_type": "code",
   "execution_count": null,
   "metadata": {
    "execution": {
     "iopub.status.busy": "2021-12-08T23:07:07.611331Z",
     "iopub.status.idle": "2021-12-08T23:07:07.611843Z",
     "shell.execute_reply": "2021-12-08T23:07:07.611666Z",
     "shell.execute_reply.started": "2021-12-08T23:07:07.61164Z"
    }
   },
   "outputs": [],
   "source": [
    "df2.to_csv('submission.csv') #, index=False)"
   ]
  }
 ],
 "metadata": {
  "instance_type": "ml.t3.medium",
  "kernelspec": {
   "display_name": "Python 3 (Data Science)",
   "language": "python",
   "name": "python3__SAGEMAKER_INTERNAL__arn:aws:sagemaker:us-east-1:081325390199:image/datascience-1.0"
  },
  "language_info": {
   "codemirror_mode": {
    "name": "ipython",
    "version": 3
   },
   "file_extension": ".py",
   "mimetype": "text/x-python",
   "name": "python",
   "nbconvert_exporter": "python",
   "pygments_lexer": "ipython3",
   "version": "3.7.10"
  }
 },
 "nbformat": 4,
 "nbformat_minor": 4
}
