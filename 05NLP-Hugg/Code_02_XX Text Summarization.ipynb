{
 "cells": [
  {
   "cell_type": "code",
   "execution_count": 1,
   "id": "696d3bf3",
   "metadata": {},
   "outputs": [
    {
     "name": "stderr",
     "output_type": "stream",
     "text": [
      "/opt/anaconda3/envs/transformers-2/lib/python3.9/site-packages/tqdm/auto.py:22: TqdmWarning: IProgress not found. Please update jupyter and ipywidgets. See https://ipywidgets.readthedocs.io/en/stable/user_install.html\n",
      "  from .autonotebook import tqdm as notebook_tqdm\n"
     ]
    }
   ],
   "source": [
    "import transformers\n",
    "\n",
    "#Set to avoid warning messages.\n",
    "transformers.logging.set_verbosity_error()"
   ]
  },
  {
   "cell_type": "markdown",
   "id": "777d12b6",
   "metadata": {},
   "source": [
    "## 02.03. Summarization with Pipelines"
   ]
  },
  {
   "cell_type": "code",
   "execution_count": 2,
   "id": "423820bb",
   "metadata": {},
   "outputs": [],
   "source": [
    "verbose_text =\"\"\"\n",
    "Earth is the third planet from the Sun and the only astronomical object \n",
    "known to harbor life. \n",
    "While large volumes of water can be found \n",
    "throughout the Solar System, only Earth sustains liquid surface water. \n",
    "About 71% of Earth's surface is made up of the ocean, dwarfing \n",
    "Earth's polar ice, lakes, and rivers. \n",
    "The remaining 29% of Earth's \n",
    "surface is land, consisting of continents and islands. \n",
    "Earth's surface layer is formed of several slowly moving tectonic plates, \n",
    "interacting to produce mountain ranges, volcanoes, and earthquakes. \n",
    "Earth's liquid outer core generates the magnetic field that shapes Earth's \n",
    "magnetosphere, deflecting destructive solar winds.\n",
    "\"\"\"\n",
    "\n",
    "verbose_text = verbose_text.replace(\"\\n\",\"\")\n"
   ]
  },
  {
   "cell_type": "code",
   "execution_count": 3,
   "id": "8d4f73e3",
   "metadata": {},
   "outputs": [
    {
     "name": "stdout",
     "output_type": "stream",
     "text": [
      " Earth is the third planet from the Sun and the only astronomical object known to harbor life . About 71% of Earth's surface is made up of the ocean, dwarfing Earth's polar ice, lakes, and rivers . The remaining 29% of the surface is land, consisting of continents and islands .\n"
     ]
    }
   ],
   "source": [
    "from transformers import pipeline\n",
    "\n",
    "\n",
    "extractive_summarizer = pipeline(\"summarization\", \n",
    "                                 min_length=10, \n",
    "                                 max_length=100)\n",
    "\n",
    "#Extractive summarization\n",
    "extractive_summary=extractive_summarizer(verbose_text)\n",
    "\n",
    "print(extractive_summary[0].get(\"summary_text\"))\n",
    "\n"
   ]
  },
  {
   "cell_type": "code",
   "execution_count": 4,
   "id": "5f498492",
   "metadata": {},
   "outputs": [
    {
     "name": "stdout",
     "output_type": "stream",
     "text": [
      "Checkpoint used:  BartConfig {\n",
      "  \"_name_or_path\": \"sshleifer/distilbart-cnn-12-6\",\n",
      "  \"_num_labels\": 3,\n",
      "  \"activation_dropout\": 0.0,\n",
      "  \"activation_function\": \"gelu\",\n",
      "  \"add_bias_logits\": false,\n",
      "  \"add_final_layer_norm\": false,\n",
      "  \"architectures\": [\n",
      "    \"BartForConditionalGeneration\"\n",
      "  ],\n",
      "  \"attention_dropout\": 0.0,\n",
      "  \"bos_token_id\": 0,\n",
      "  \"classif_dropout\": 0.0,\n",
      "  \"classifier_dropout\": 0.0,\n",
      "  \"d_model\": 1024,\n",
      "  \"decoder_attention_heads\": 16,\n",
      "  \"decoder_ffn_dim\": 4096,\n",
      "  \"decoder_layerdrop\": 0.0,\n",
      "  \"decoder_layers\": 6,\n",
      "  \"decoder_start_token_id\": 2,\n",
      "  \"dropout\": 0.1,\n",
      "  \"early_stopping\": true,\n",
      "  \"encoder_attention_heads\": 16,\n",
      "  \"encoder_ffn_dim\": 4096,\n",
      "  \"encoder_layerdrop\": 0.0,\n",
      "  \"encoder_layers\": 12,\n",
      "  \"eos_token_id\": 2,\n",
      "  \"extra_pos_embeddings\": 2,\n",
      "  \"force_bos_token_to_be_generated\": true,\n",
      "  \"forced_bos_token_id\": 0,\n",
      "  \"forced_eos_token_id\": 2,\n",
      "  \"gradient_checkpointing\": false,\n",
      "  \"id2label\": {\n",
      "    \"0\": \"LABEL_0\",\n",
      "    \"1\": \"LABEL_1\",\n",
      "    \"2\": \"LABEL_2\"\n",
      "  },\n",
      "  \"init_std\": 0.02,\n",
      "  \"is_encoder_decoder\": true,\n",
      "  \"label2id\": {\n",
      "    \"LABEL_0\": 0,\n",
      "    \"LABEL_1\": 1,\n",
      "    \"LABEL_2\": 2\n",
      "  },\n",
      "  \"length_penalty\": 2.0,\n",
      "  \"max_length\": 142,\n",
      "  \"max_position_embeddings\": 1024,\n",
      "  \"min_length\": 56,\n",
      "  \"model_type\": \"bart\",\n",
      "  \"no_repeat_ngram_size\": 3,\n",
      "  \"normalize_before\": false,\n",
      "  \"normalize_embedding\": true,\n",
      "  \"num_beams\": 4,\n",
      "  \"num_hidden_layers\": 12,\n",
      "  \"output_past\": true,\n",
      "  \"pad_token_id\": 1,\n",
      "  \"prefix\": \" \",\n",
      "  \"replacing_rate\": 0,\n",
      "  \"scale_embedding\": false,\n",
      "  \"static_position_embeddings\": false,\n",
      "  \"student_decoder_layers\": null,\n",
      "  \"student_encoder_layers\": null,\n",
      "  \"task_specific_params\": {\n",
      "    \"summarization\": {\n",
      "      \"early_stopping\": true,\n",
      "      \"length_penalty\": 2.0,\n",
      "      \"max_length\": 142,\n",
      "      \"min_length\": 56,\n",
      "      \"no_repeat_ngram_size\": 3,\n",
      "      \"num_beams\": 4\n",
      "    }\n",
      "  },\n",
      "  \"transformers_version\": \"4.25.1\",\n",
      "  \"use_cache\": true,\n",
      "  \"vocab_size\": 50264\n",
      "}\n",
      "\n"
     ]
    }
   ],
   "source": [
    "print(\"Checkpoint used: \", extractive_summarizer.model.config)"
   ]
  },
  {
   "cell_type": "markdown",
   "id": "0c00bf2d",
   "metadata": {},
   "source": [
    "## 02.05 Evaluating with ROUGE"
   ]
  },
  {
   "cell_type": "code",
   "execution_count": 5,
   "id": "6e7e8b90",
   "metadata": {},
   "outputs": [
    {
     "name": "stdout",
     "output_type": "stream",
     "text": [
      "Results for Exact match {'rouge1': 1.0, 'rouge2': 1.0, 'rougeL': 1.0, 'rougeLsum': 1.0}\n"
     ]
    }
   ],
   "source": [
    "import evaluate\n",
    "\n",
    "rouge_evaluator = evaluate.load(\"rouge\")\n",
    "\n",
    "#Evaluate exact match strings\n",
    "reference_text=[\"This is the same string\"]\n",
    "predict_text=[\"This is the same string\"]\n",
    "\n",
    "eval_results=rouge_evaluator.compute(predictions=predict_text, \n",
    "                                     references=reference_text)\n",
    "print(\"Results for Exact match\",eval_results)\n"
   ]
  },
  {
   "cell_type": "code",
   "execution_count": 6,
   "id": "03706112",
   "metadata": {},
   "outputs": [
    {
     "name": "stdout",
     "output_type": "stream",
     "text": [
      "\n",
      "Results for no match {'rouge1': 0.0, 'rouge2': 0.0, 'rougeL': 0.0, 'rougeLsum': 0.0}\n"
     ]
    }
   ],
   "source": [
    "#Evaluate no-match strings\n",
    "reference_text=[\"This is the different string\"]\n",
    "predict_text=[\"Google can predict warm weather\"]\n",
    "\n",
    "eval_results=rouge_evaluator.compute(predictions=predict_text, \n",
    "                                     references=reference_text)\n",
    "print(\"\\nResults for no match\", eval_results)"
   ]
  },
  {
   "cell_type": "code",
   "execution_count": 7,
   "id": "8f4f80a5",
   "metadata": {},
   "outputs": [
    {
     "name": "stdout",
     "output_type": "stream",
     "text": [
      "\n",
      "Results for Summary generated {'rouge1': 0.6369426751592356, 'rouge2': 0.5935483870967743, 'rougeL': 0.624203821656051, 'rougeLsum': 0.624203821656051}\n"
     ]
    }
   ],
   "source": [
    "\n",
    "#Evaluate summary\n",
    "eval_results=rouge_evaluator.compute(\n",
    "    predictions=[extractive_summary[0].get(\"summary_text\")], \n",
    "    references=[verbose_text])\n",
    "\n",
    "print(\"\\nResults for Summary generated\", eval_results)"
   ]
  },
  {
   "cell_type": "code",
   "execution_count": null,
   "id": "ef61a07f",
   "metadata": {},
   "outputs": [],
   "source": []
  }
 ],
 "metadata": {
  "kernelspec": {
   "display_name": "Python 3 (ipykernel)",
   "language": "python",
   "name": "python3"
  },
  "language_info": {
   "codemirror_mode": {
    "name": "ipython",
    "version": 3
   },
   "file_extension": ".py",
   "mimetype": "text/x-python",
   "name": "python",
   "nbconvert_exporter": "python",
   "pygments_lexer": "ipython3",
   "version": "3.9.15"
  }
 },
 "nbformat": 4,
 "nbformat_minor": 5
}
